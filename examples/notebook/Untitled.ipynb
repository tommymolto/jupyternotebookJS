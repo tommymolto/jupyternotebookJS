{
 "cells": [
  {
   "cell_type": "markdown",
   "metadata": {},
   "source": [
    "Revisão de javascript\n",
    "\n",
    "Vamos fazer aqui uma revisão de javascript, pensando em você que não esteve com os conceitos fixos durante o trimestre.\n",
    "Estamos considerando que os conceitos de lógica foram aplicados e somente a aplicação de javascript não foi implementada\n",
    "\n",
    "\n",
    "\n",
    "Condições Logicas:\n",
    "\n",
    "Verdadeiro ou falso, ou Booleanas, ou Se/if Senão/Else:\n",
    "\n",
    "É o tipo de condiçao de contorno mais tracidional. Verificar se uma condição é verdadeira, se sim execute algo, senão, outra execução.Oexemplomais obvio para nosso dia a dia é um interruptor. \n",
    "\n",
    "Vamos simular com o seguinte: se uma variavel é par, ele deverá retornar umafunção falsa. Se é verdadeira,ele deverá retornar positivo.\n",
    "\n",
    "Com essa funcção,vpcê deverá aplicar não só o conceito de se(verdadeiro){ faca } senao {faca), mas como lembrar do passado na materia quanto a funcoes matematicas"
   ]
  },
  {
   "cell_type": "code",
   "execution_count": 4,
   "metadata": {},
   "outputs": [
    {
     "name": "stdout",
     "output_type": "stream",
     "text": [
      "O numero 3 é IMPAR\n",
      "O numero 2010 é PAR\n"
     ]
    }
   ],
   "source": [
    "function verificaPar(x){\n",
    "    /// coloque o seu codigo - NÃO ERA PRA TER O CODIGO\n",
    "    if(x % 2 == 0){\n",
    "        return 'PAR'\n",
    "    }else{\n",
    "        return 'IMPAR';\n",
    "    }\n",
    "}\n",
    "console.log('O numero 3 é '+ verificaPar(3)); //deve retornar IMPAR\n",
    "console.log('O numero 2010 é '+ verificaPar(2010)); // retornar PAR\n"
   ]
  },
  {
   "cell_type": "markdown",
   "metadata": {},
   "source": [
    "Um caso normal são as clausulas encadeadas. Quando temos que testar uma condicao verdadeira ou falsa, fica mais falsa, mas as vezes temos que testar mais do que um. Um exeplo é se a pessoa é menor de 18 ou maior de 65 anos. Issonosleva a clausulas de condição em cadeia, oconhecido \" se entao\""
   ]
  },
  {
   "cell_type": "code",
   "execution_count": 7,
   "metadata": {},
   "outputs": [
    {
     "name": "stdout",
     "output_type": "stream",
     "text": [
      "O numero 3 é MENOR\n",
      "O numero 222 é COROA\n",
      "O numero 39 é Adulto\n"
     ]
    }
   ],
   "source": [
    "function verificaidade(x){\n",
    "    /// coloque o seu codigo - NÃO ERA PRA TER O CODIGO\n",
    "    if(x <= 17){\n",
    "        return 'MENOR'\n",
    "    }else if (x >= 65){\n",
    "        return 'COROA';\n",
    "    }\n",
    "              else{\n",
    "              return 'Adulto';\n",
    "              }\n",
    "}\n",
    "console.log('O numero 3 é '+ verificaidade(3)); //deve retornar MENOR\n",
    "console.log('O numero 222 é '+ verificaidade(2010)); // retornar COROA\n",
    "console.log('O numero 39 é '+ verificaidade(39)); // retornar Adulto\n"
   ]
  },
  {
   "cell_type": "code",
   "execution_count": null,
   "metadata": {},
   "outputs": [],
   "source": [
    "Loops\n",
    "Temos dois tipos de loops: os que executam inicialmente, os que so executam se fo verdade. "
   ]
  },
  {
   "cell_type": "code",
   "execution_count": 16,
   "metadata": {},
   "outputs": [
    {
     "name": "stdout",
     "output_type": "stream",
     "text": [
      "Respondo 0\n",
      "Respondo 1\n",
      "Respondo 2\n",
      "Respondo 3\n",
      "Respondo 4\n",
      "Respondo 5\n",
      "Respondo 6\n",
      "Respondo 7\n",
      "Respondo 8\n",
      "Respondo 9\n",
      "Fechei em  10\n",
      "No while respondo0\n",
      "No while respondo1\n",
      "No while respondo2\n",
      "No while respondo3\n",
      "No while respondo4\n",
      "No while respondo5\n",
      "No while respondo6\n",
      "No while respondo7\n",
      "No while respondo8\n",
      "No while respondo9\n",
      "Fechei em  10\n",
      "No do while  respondo0\n",
      "No do while  respondo1\n",
      "No do while  respondo2\n",
      "No do while  respondo3\n",
      "No do while  respondo4\n",
      "No do while  respondo5\n",
      "No do while  respondo6\n",
      "No do while  respondo7\n",
      "No do while  respondo8\n",
      "No do while  respondo9\n",
      "Fechei em  10\n",
      "0\n",
      "1\n",
      "2\n",
      "3\n",
      "4\n",
      "5\n",
      "6\n",
      "7\n",
      "8\n",
      "9\n",
      "Fechei em  10\n"
     ]
    }
   ],
   "source": [
    "for( var i = 0; i < 10; i++)\n",
    "{\n",
    "   console.log('Respondo '+ i);\n",
    "}\n",
    "console.log('Fechei em ',i);\n",
    "\n",
    "var j = 0;\n",
    "while(j <10)\n",
    "{\n",
    "    console.log('No while respondo'+ j);\n",
    "    j++;\n",
    "};\n",
    "console.log('Fechei em ',j);\n",
    "k=0;\n",
    "do\n",
    "{\n",
    "    console.log('No do while  respondo'+ k);\n",
    "    k++;\n",
    "}\n",
    "while(k<10);\n",
    "console.log('Fechei em ',k);\n",
    "z=0;\n",
    "while(z<10){\n",
    "    console.log(z);\n",
    "    ++z;\n",
    "}\n",
    "console.log('Fechei em ',z);\n"
   ]
  },
  {
   "cell_type": "code",
   "execution_count": null,
   "metadata": {},
   "outputs": [],
   "source": [
    "Vamos agora entrar em funcoes. "
   ]
  },
  {
   "cell_type": "code",
   "execution_count": null,
   "metadata": {},
   "outputs": [],
   "source": []
  }
 ],
 "metadata": {
  "kernelspec": {
   "display_name": "Javascript (Node.js)",
   "language": "javascript",
   "name": "javascript"
  },
  "language_info": {
   "file_extension": ".js",
   "mimetype": "application/javascript",
   "name": "javascript",
   "version": "8.1.0"
  }
 },
 "nbformat": 4,
 "nbformat_minor": 2
}
